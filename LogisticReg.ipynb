{
 "cells": [
  {
   "cell_type": "code",
   "execution_count": 7,
   "id": "ee5ddca6-8240-4ff2-8ac4-d975428ae4a3",
   "metadata": {},
   "outputs": [],
   "source": [
    "import pandas as pd\n",
    "import numpy as np\n",
    "import math"
   ]
  },
  {
   "cell_type": "code",
   "execution_count": 8,
   "id": "3ed9836e-cdfd-42a2-9635-fd4bb93df284",
   "metadata": {},
   "outputs": [],
   "source": [
    "dt=pd.read_csv(\"****/activity.csv\")"
   ]
  },
  {
   "cell_type": "code",
   "execution_count": 249,
   "id": "c7a9f062-9e70-4524-9e63-76cee5c5be24",
   "metadata": {},
   "outputs": [
    {
     "data": {
      "text/html": [
       "<div>\n",
       "<style scoped>\n",
       "    .dataframe tbody tr th:only-of-type {\n",
       "        vertical-align: middle;\n",
       "    }\n",
       "\n",
       "    .dataframe tbody tr th {\n",
       "        vertical-align: top;\n",
       "    }\n",
       "\n",
       "    .dataframe thead th {\n",
       "        text-align: right;\n",
       "    }\n",
       "</style>\n",
       "<table border=\"1\" class=\"dataframe\">\n",
       "  <thead>\n",
       "    <tr style=\"text-align: right;\">\n",
       "      <th></th>\n",
       "      <th>Acc (vertical)</th>\n",
       "      <th>LyingDown</th>\n",
       "    </tr>\n",
       "  </thead>\n",
       "  <tbody>\n",
       "    <tr>\n",
       "      <th>0</th>\n",
       "      <td>96.229</td>\n",
       "      <td>0</td>\n",
       "    </tr>\n",
       "    <tr>\n",
       "      <th>1</th>\n",
       "      <td>84.746</td>\n",
       "      <td>0</td>\n",
       "    </tr>\n",
       "    <tr>\n",
       "      <th>2</th>\n",
       "      <td>82.449</td>\n",
       "      <td>0</td>\n",
       "    </tr>\n",
       "    <tr>\n",
       "      <th>3</th>\n",
       "      <td>106.560</td>\n",
       "      <td>0</td>\n",
       "    </tr>\n",
       "    <tr>\n",
       "      <th>4</th>\n",
       "      <td>80.152</td>\n",
       "      <td>0</td>\n",
       "    </tr>\n",
       "  </tbody>\n",
       "</table>\n",
       "</div>"
      ],
      "text/plain": [
       "   Acc (vertical)  LyingDown\n",
       "0          96.229          0\n",
       "1          84.746          0\n",
       "2          82.449          0\n",
       "3         106.560          0\n",
       "4          80.152          0"
      ]
     },
     "execution_count": 249,
     "metadata": {},
     "output_type": "execute_result"
    }
   ],
   "source": [
    "dt.head()\n",
    "#Already Cleaned dataset"
   ]
  },
  {
   "cell_type": "code",
   "execution_count": 241,
   "id": "b073cdba-068f-4c5e-8943-fe402cc25a4f",
   "metadata": {},
   "outputs": [],
   "source": [
    "J=0\n",
    "dw1=0\n",
    "db=0\n",
    "b=54\n",
    "w1=4"
   ]
  },
  {
   "cell_type": "code",
   "execution_count": 242,
   "id": "9eea2b79-0e12-4049-a7fe-4d37f1333994",
   "metadata": {},
   "outputs": [],
   "source": [
    "m=300"
   ]
  },
  {
   "cell_type": "code",
   "execution_count": 243,
   "id": "b97bacf1-a4da-479b-afdc-921cd5b4abf1",
   "metadata": {},
   "outputs": [],
   "source": [
    "iterate=[]\n",
    "accurate=[]"
   ]
  },
  {
   "cell_type": "code",
   "execution_count": 244,
   "id": "f2103626-3e0c-4d6f-a75b-56239478d356",
   "metadata": {},
   "outputs": [
    {
     "name": "stdout",
     "output_type": "stream",
     "text": [
      "CPU times: total: 969 ms\n",
      "Wall time: 969 ms\n"
     ]
    }
   ],
   "source": [
    "%%time\n",
    "l=0\n",
    "for i in range(0,12):\n",
    "    alpha=0.1\n",
    "    for i in range(0,m):\n",
    "        Z= w1*dt.iloc[i][0] + b\n",
    "        a= 1/(1+ np.exp(-Z))\n",
    "        dz= a-dt.iloc[i][1]\n",
    "        dw1=dw1+ dt.iloc[i][0]*dz\n",
    "        db= db+ dz\n",
    "    l=l+1\n",
    "    if dw1==0:\n",
    "        break\n",
    "    dw1= dw1/m\n",
    "    db= db/m\n",
    "    w1= w1- (alpha*dw1)\n",
    "    b= b- (alpha*db)\n",
    "    inaccuracy=0\n",
    "    for i in range(300,494):\n",
    "        z=dt.iloc[i][0]* w1 + b\n",
    "        a= 1/(1+ np.exp(-z))\n",
    "        inaccuracy= inaccuracy + mod(a- dt.iloc[i][1])\n",
    "    accuracy = (194-inaccuracy)/194\n",
    "    accuracy= accuracy*100\n",
    "    iterate.append(l)\n",
    "    accurate.append(accuracy)\n",
    "    \n",
    "#Optimzed the logistic regression on Accuracy as wasn't able to implement the Cost function J"
   ]
  },
  {
   "cell_type": "code",
   "execution_count": null,
   "id": "7053996f-15a6-4c8b-b479-affc1100650e",
   "metadata": {},
   "outputs": [],
   "source": [
    "def transpose(mat,mul):\n",
    "    m=mat.shape[1]\n",
    "    final=0\n",
    "    for i in range (0,m):\n",
    "        final= final + (mat.iloc[0][i]* mul)\n",
    "    return final"
   ]
  },
  {
   "cell_type": "code",
   "execution_count": 73,
   "id": "50680b63-9c6c-47ef-904b-bdd53249a777",
   "metadata": {},
   "outputs": [],
   "source": [
    "def mod(ab):\n",
    "    if ab >= 0:\n",
    "        return ab\n",
    "    else: \n",
    "        if ab<0:\n",
    "            return -(ab)"
   ]
  },
  {
   "cell_type": "code",
   "execution_count": 245,
   "id": "2ae4ddbe-13e8-4b03-97d6-97be5c4d707a",
   "metadata": {},
   "outputs": [],
   "source": [
    "df1=pd.DataFrame(iterate,columns=['Num'])\n",
    "df2=pd.DataFrame(accurate,columns=['Accuracy'])"
   ]
  },
  {
   "cell_type": "code",
   "execution_count": 246,
   "id": "dafe6a3f-1f99-4db3-837e-96b757ef15ea",
   "metadata": {},
   "outputs": [],
   "source": [
    "Final=pd.concat([df1,df2],axis=1).reset_index()"
   ]
  },
  {
   "cell_type": "code",
   "execution_count": 247,
   "id": "941b756e-62f9-49c7-ad98-5bfec0e5f954",
   "metadata": {},
   "outputs": [
    {
     "data": {
      "text/html": [
       "<div>\n",
       "<style scoped>\n",
       "    .dataframe tbody tr th:only-of-type {\n",
       "        vertical-align: middle;\n",
       "    }\n",
       "\n",
       "    .dataframe tbody tr th {\n",
       "        vertical-align: top;\n",
       "    }\n",
       "\n",
       "    .dataframe thead th {\n",
       "        text-align: right;\n",
       "    }\n",
       "</style>\n",
       "<table border=\"1\" class=\"dataframe\">\n",
       "  <thead>\n",
       "    <tr style=\"text-align: right;\">\n",
       "      <th></th>\n",
       "      <th>Num</th>\n",
       "      <th>Accuracy</th>\n",
       "    </tr>\n",
       "  </thead>\n",
       "  <tbody>\n",
       "    <tr>\n",
       "      <th>0</th>\n",
       "      <td>1</td>\n",
       "      <td>95.086365</td>\n",
       "    </tr>\n",
       "    <tr>\n",
       "      <th>1</th>\n",
       "      <td>2</td>\n",
       "      <td>95.698204</td>\n",
       "    </tr>\n",
       "    <tr>\n",
       "      <th>2</th>\n",
       "      <td>3</td>\n",
       "      <td>96.366844</td>\n",
       "    </tr>\n",
       "    <tr>\n",
       "      <th>3</th>\n",
       "      <td>4</td>\n",
       "      <td>96.974013</td>\n",
       "    </tr>\n",
       "    <tr>\n",
       "      <th>4</th>\n",
       "      <td>5</td>\n",
       "      <td>97.596012</td>\n",
       "    </tr>\n",
       "    <tr>\n",
       "      <th>5</th>\n",
       "      <td>6</td>\n",
       "      <td>98.100293</td>\n",
       "    </tr>\n",
       "    <tr>\n",
       "      <th>6</th>\n",
       "      <td>7</td>\n",
       "      <td>98.271038</td>\n",
       "    </tr>\n",
       "    <tr>\n",
       "      <th>7</th>\n",
       "      <td>8</td>\n",
       "      <td>98.245943</td>\n",
       "    </tr>\n",
       "    <tr>\n",
       "      <th>8</th>\n",
       "      <td>9</td>\n",
       "      <td>98.325668</td>\n",
       "    </tr>\n",
       "    <tr>\n",
       "      <th>9</th>\n",
       "      <td>10</td>\n",
       "      <td>98.631790</td>\n",
       "    </tr>\n",
       "    <tr>\n",
       "      <th>10</th>\n",
       "      <td>11</td>\n",
       "      <td>98.860010</td>\n",
       "    </tr>\n",
       "    <tr>\n",
       "      <th>11</th>\n",
       "      <td>12</td>\n",
       "      <td>98.918344</td>\n",
       "    </tr>\n",
       "  </tbody>\n",
       "</table>\n",
       "</div>"
      ],
      "text/plain": [
       "    Num   Accuracy\n",
       "0     1  95.086365\n",
       "1     2  95.698204\n",
       "2     3  96.366844\n",
       "3     4  96.974013\n",
       "4     5  97.596012\n",
       "5     6  98.100293\n",
       "6     7  98.271038\n",
       "7     8  98.245943\n",
       "8     9  98.325668\n",
       "9    10  98.631790\n",
       "10   11  98.860010\n",
       "11   12  98.918344"
      ]
     },
     "execution_count": 247,
     "metadata": {},
     "output_type": "execute_result"
    }
   ],
   "source": [
    "Final[['Num','Accuracy']]"
   ]
  },
  {
   "cell_type": "code",
   "execution_count": 130,
   "id": "ef38349d-cb10-4054-909e-b77b81e44c14",
   "metadata": {},
   "outputs": [],
   "source": [
    "import matplotlib.pyplot as plt"
   ]
  },
  {
   "cell_type": "code",
   "execution_count": 248,
   "id": "1bbe041e-fe76-437e-b917-4c96ec8b5c70",
   "metadata": {},
   "outputs": [
    {
     "data": {
      "image/png": "[encoded data removed]",
      "text/plain": [
       "<Figure size 640x480 with 1 Axes>"
      ]
     },
     "metadata": {},
     "output_type": "display_data"
    }
   ],
   "source": [
    "ax = plt.gca()\n",
    "Final.plot(kind='line',\n",
    "        x='Num',\n",
    "        y='Accuracy',\n",
    "        color='green', ax=ax)\n",
    "plt.show()"
   ]
  },
  {
   "cell_type": "code",
   "execution_count": null,
   "id": "bfbf9d47-baec-46b4-a063-1f2364a03124",
   "metadata": {},
   "outputs": [],
   "source": []
  }
 ],
 "metadata": {
  "kernelspec": {
   "display_name": "Python 3 (ipykernel)",
   "language": "python",
   "name": "python3"
  },
  "language_info": {
   "codemirror_mode": {
    "name": "ipython",
    "version": 3
   },
   "file_extension": ".py",
   "mimetype": "text/x-python",
   "name": "python",
   "nbconvert_exporter": "python",
   "pygments_lexer": "ipython3",
   "version": "3.10.9"
  }
 },
 "nbformat": 4,
 "nbformat_minor": 5
}
