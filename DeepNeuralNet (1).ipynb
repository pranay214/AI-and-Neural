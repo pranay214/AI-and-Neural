{
 "cells": [
  {
   "cell_type": "code",
   "execution_count": 1,
   "id": "91e773af-4f72-4699-b9b1-6c7a0af014b1",
   "metadata": {},
   "outputs": [],
   "source": [
    "import pandas as pd\n",
    "import numpy as np\n",
    "import matplotlib.pyplot as plt"
   ]
  },
  {
   "cell_type": "code",
   "execution_count": 2,
   "id": "1c5677f3-85fb-49ce-8311-608aa41b51db",
   "metadata": {},
   "outputs": [],
   "source": [
    "data=pd.read_csv('C:/Users/Pranay/Downloads/activity.csv')"
   ]
  },
  {
   "cell_type": "code",
   "execution_count": 3,
   "id": "1df84d42-f707-4c48-9945-c16d02e49ddc",
   "metadata": {},
   "outputs": [
    {
     "data": {
      "text/html": [
       "<div>\n",
       "<style scoped>\n",
       "    .dataframe tbody tr th:only-of-type {\n",
       "        vertical-align: middle;\n",
       "    }\n",
       "\n",
       "    .dataframe tbody tr th {\n",
       "        vertical-align: top;\n",
       "    }\n",
       "\n",
       "    .dataframe thead th {\n",
       "        text-align: right;\n",
       "    }\n",
       "</style>\n",
       "<table border=\"1\" class=\"dataframe\">\n",
       "  <thead>\n",
       "    <tr style=\"text-align: right;\">\n",
       "      <th></th>\n",
       "      <th>Acc (vertical)</th>\n",
       "      <th>LyingDown</th>\n",
       "    </tr>\n",
       "  </thead>\n",
       "  <tbody>\n",
       "    <tr>\n",
       "      <th>0</th>\n",
       "      <td>96.229</td>\n",
       "      <td>0</td>\n",
       "    </tr>\n",
       "    <tr>\n",
       "      <th>1</th>\n",
       "      <td>84.746</td>\n",
       "      <td>0</td>\n",
       "    </tr>\n",
       "    <tr>\n",
       "      <th>2</th>\n",
       "      <td>82.449</td>\n",
       "      <td>0</td>\n",
       "    </tr>\n",
       "    <tr>\n",
       "      <th>3</th>\n",
       "      <td>106.560</td>\n",
       "      <td>0</td>\n",
       "    </tr>\n",
       "    <tr>\n",
       "      <th>4</th>\n",
       "      <td>80.152</td>\n",
       "      <td>0</td>\n",
       "    </tr>\n",
       "  </tbody>\n",
       "</table>\n",
       "</div>"
      ],
      "text/plain": [
       "   Acc (vertical)  LyingDown\n",
       "0          96.229          0\n",
       "1          84.746          0\n",
       "2          82.449          0\n",
       "3         106.560          0\n",
       "4          80.152          0"
      ]
     },
     "execution_count": 3,
     "metadata": {},
     "output_type": "execute_result"
    }
   ],
   "source": [
    "data.head()"
   ]
  },
  {
   "cell_type": "code",
   "execution_count": 4,
   "id": "cb122185-d98a-4001-b2d0-d16a3db93545",
   "metadata": {},
   "outputs": [
    {
     "data": {
      "text/plain": [
       "494"
      ]
     },
     "execution_count": 4,
     "metadata": {},
     "output_type": "execute_result"
    }
   ],
   "source": [
    "data.shape[0]"
   ]
  },
  {
   "cell_type": "code",
   "execution_count": 5,
   "id": "714374f0-6fbd-491f-8d49-c4c9ca614145",
   "metadata": {},
   "outputs": [],
   "source": [
    "X=data['Acc (vertical)']\n",
    "Y=data['LyingDown']\n",
    "X_train=X[0:345]\n",
    "Y_train=Y[0:345]\n",
    "X_test=X[345:]\n",
    "Y_test=Y[345:]\n",
    "X_train=np.array(X_train).reshape(1,345)\n",
    "Y_train=np.array(Y_train).reshape(1,345)\n",
    "X_test=np.array(X_test).reshape(1,149)\n",
    "Y_test=np.array(Y_test).reshape(1,149)"
   ]
  },
  {
   "cell_type": "code",
   "execution_count": 6,
   "id": "cb84a7be-d2d5-4b8b-83e4-a35698390fd4",
   "metadata": {},
   "outputs": [],
   "source": [
    "from sklearn.preprocessing import MinMaxScaler\n",
    "scaler=MinMaxScaler()\n",
    "X_train=scaler.fit_transform(X_train.T).T     #Scaling all training examples\n",
    "X_test=scaler.fit_transform(X_test.T).T"
   ]
  },
  {
   "cell_type": "code",
   "execution_count": 36,
   "id": "2c108640-450b-4225-99e8-bec7f2de06ea",
   "metadata": {},
   "outputs": [],
   "source": [
    "#Hyperparameters\n",
    "alpha=0.01\n",
    "Iter=1000\n",
    "L=2\n",
    "N=3\n",
    "m=X_train.shape[1]\n",
    "Input_feat=1\n",
    "Output_feat=1"
   ]
  },
  {
   "cell_type": "code",
   "execution_count": 37,
   "id": "df6ee011-acbe-4792-a1cb-f77d544c28ca",
   "metadata": {},
   "outputs": [],
   "source": [
    "def sigmoid(X):\n",
    "    return 1/(1+np.exp(-X))"
   ]
  },
  {
   "cell_type": "code",
   "execution_count": 54,
   "id": "5716a543-d71c-4f8c-abd4-758ee518cda7",
   "metadata": {},
   "outputs": [],
   "source": [
    "W=[]                                         #NN matrices and lists\n",
    "B=[]\n",
    "Z=[]\n",
    "A=[]\n",
    "DZ=[]\n",
    "DW=[]\n",
    "DB=[]\n",
    "G_prime=[]\n",
    "W_track=[]"
   ]
  },
  {
   "cell_type": "code",
   "execution_count": 55,
   "id": "b889aa93-e4ec-4a4b-bf8f-0bfbb520c7ef",
   "metadata": {},
   "outputs": [],
   "source": [
    "for i in range(1,L):                         #NN matrices and lists\n",
    "    if(i==1):\n",
    "        W.append(np.random.randint(2,10,size=(N,Input_feat)))\n",
    "    else:\n",
    "        W.append(np.random.rand(N,N))\n",
    "    B.append(np.random.rand(N,1))\n",
    "    Z.append(np.zeros([N,m]))\n",
    "    A.append(np.zeros([N,m]))\n",
    "    DZ.append(np.zeros([N,m]))\n",
    "    DB.append(np.random.rand(N,1))\n",
    "    if(i==1):\n",
    "        DW.append(np.random.rand(N,Input_feat))\n",
    "    else:\n",
    "        DW.append(np.random.rand(N,N))\n",
    "    G_prime.append(np.ones([N,N]))"
   ]
  },
  {
   "cell_type": "code",
   "execution_count": 56,
   "id": "54db38ec-2687-4b45-baa4-a3cdacfaec04",
   "metadata": {},
   "outputs": [],
   "source": [
    "Z_test=[]                                     #Prediction variables and lists\n",
    "A_test=[]\n",
    "Z_train=[]\n",
    "A_train=[]\n",
    "Accuracy_test_track=[]\n",
    "Accuracy_train_track=[]\n",
    "Error_train_track=[]\n",
    "Error_test_track=[]\n",
    "for i in range(1,L):\n",
    "    Z_test.append(np.zeros([N,149]))\n",
    "    A_test.append(np.zeros([N,149]))\n",
    "Z0_test=np.random.rand(1,1)\n",
    "Z7_test=np.zeros([Output_feat,1])\n",
    "a0_test=X_test\n",
    "a7_test=np.zeros([Output_feat,1])\n",
    "A_test.insert(0,a0_test)\n",
    "A_test.insert(2,a7_test)\n",
    "Z_test.insert(0,Z0_test)\n",
    "Z_test.insert(2,Z7_test)\n",
    "for i in range(1,L):\n",
    "    Z_train.append(np.zeros([N,m]))\n",
    "    A_train.append(np.zeros([N,m]))\n",
    "Z0_train=np.random.rand(1,1)\n",
    "Z7_train=np.zeros([Output_feat,1])\n",
    "a0_train=X_train\n",
    "a7_train=np.zeros([Output_feat,1])\n",
    "A_train.insert(0,a0_train)\n",
    "A_train.insert(2,a7_train)\n",
    "Z_train.insert(0,Z0_train)\n",
    "Z_train.insert(2,Z7_train)"
   ]
  },
  {
   "cell_type": "code",
   "execution_count": 57,
   "id": "b27d9af1-83e0-4f88-8305-ce67eaf2d4db",
   "metadata": {},
   "outputs": [],
   "source": [
    "W0=np.random.rand(2,2)                               #Creating first and last layer\n",
    "W7=np.random.rand(Output_feat,N) \n",
    "b0=np.random.rand(1,1)\n",
    "b7=np.random.rand(Output_feat,1)\n",
    "Z0=np.random.rand(1,1)\n",
    "a0=X_train\n",
    "Z7=np.zeros([Output_feat,1])\n",
    "a7=np.zeros([Output_feat,1])\n",
    "Db0=np.random.rand(1,1)\n",
    "Db7=np.random.rand(Output_feat,1)\n",
    "DZ0=np.random.rand(1,1)\n",
    "DZ7=np.zeros([Output_feat,1])\n",
    "DW0=np.random.rand(2,2)\n",
    "DW7=np.random.rand(Output_feat,N)\n",
    "G_prime0=np.zeros([N,N])\n",
    "G_prime7=np.zeros([N,N])"
   ]
  },
  {
   "cell_type": "code",
   "execution_count": 58,
   "id": "9dcb2d72-447b-4098-9138-be1867697ee5",
   "metadata": {},
   "outputs": [],
   "source": [
    "W.insert(0,W0)                            #Adding first and last layer to the neural net\n",
    "W.insert(2,W7)\n",
    "B.insert(0,b0)\n",
    "B.insert(2,b7)\n",
    "Z.insert(0,Z0)\n",
    "Z.insert(2,Z7)\n",
    "A.insert(0,a0)\n",
    "A.insert(2,a7)\n",
    "DW.insert(0,DW0)\n",
    "DW.insert(2,DW7)\n",
    "DB.insert(0,Db0)\n",
    "DB.insert(2,Db7)\n",
    "DZ.insert(0,DZ0)\n",
    "DZ.insert(2,DZ7)\n",
    "G_prime.insert(0,G_prime0)\n",
    "G_prime.insert(2,G_prime7)"
   ]
  },
  {
   "cell_type": "code",
   "execution_count": 59,
   "id": "95d74177-a288-4511-9b09-df2a5bab53a8",
   "metadata": {},
   "outputs": [
    {
     "name": "stdout",
     "output_type": "stream",
     "text": [
      "CPU times: total: 6.38 s\n",
      "Wall time: 789 ms\n"
     ]
    }
   ],
   "source": [
    "%%time\n",
    "#Forward Propogation\n",
    "for l in range(0,1000):                    #Activation functions can be customized using for loops\n",
    "    for i in range(1,L+1):\n",
    "        Z[i]=np.dot(W[i],A[i-1])\n",
    "        A[i]=sigmoid(Z[i])\n",
    "    for i in range(0,345):\n",
    "        if A[L][0][i]>0.5:\n",
    "            A[L][0][i]=1\n",
    "        else:\n",
    "            A[L][0][i]=0\n",
    "    #Back Propogation\n",
    "    for i in reversed(range(1,L+1)):\n",
    "        if(i==L):\n",
    "            DZ[i]=A[i]-Y_train\n",
    "            DW[i]= 1/m * (np.dot(DZ[i],A[i-1].T))\n",
    "            DB[i]= 1/m * (np.sum(DZ[i],axis=1,keepdims=True))\n",
    "            W[i]= W[i]- (alpha*DW[i])\n",
    "            B[i]= B[i]- (alpha*DB[i])\n",
    "        else:\n",
    "            G_prime[i]= np.dot(A[i],(1-A[i]).T)\n",
    "            DZ[i]= np.dot(W[i+1].T,(DZ[i+1])) *  np.dot(G_prime[i],Z[i])\n",
    "            DW[i]= 1/m * np.dot(DZ[i],A[i-1].T)\n",
    "            DB[i]= 1/m * (np.sum(DZ[i],axis=1,keepdims=True))\n",
    "            W[i]= W[i]- (alpha*DW[i])\n",
    "            B[i]= B[i]- (alpha*DB[i])\n",
    "    W_track.append(W[L][0][2])\n",
    "        #Predicting using parameters\n",
    "    for i in range(1,L+1):\n",
    "        Z_test[i]=np.dot(W[i],A_test[i-1])\n",
    "        A_test[i]=sigmoid(Z_test[i])\n",
    "        Z_train[i]=np.dot(W[i],A_train[i-1])\n",
    "        A_train[i]=sigmoid(Z_train[i])\n",
    "    for i in range(0,149):\n",
    "        if A_test[L][0][i]>0.5:\n",
    "            A_test[L][0][i]=1\n",
    "        else:\n",
    "            A_test[L][0][i]=0\n",
    "    for i in range(0,m):\n",
    "        if A_train[L][0][i]>0.5:\n",
    "            A_train[L][0][i]=1\n",
    "        else:\n",
    "            A_train[L][0][i]=0\n",
    "    Accuracy_test=((149-np.sum(np.abs(A_test[L]-Y_test)))/149)*100 #Accuracy\n",
    "    Accuracy_train=((m-np.sum(np.abs(A_train[L]-Y_train)))/m)*100\n",
    "    Accuracy_test_track.append(Accuracy_test)\n",
    "    Accuracy_train_track.append(Accuracy_train)\n",
    "    Error_test_track.append(np.sum(np.abs(A_test[L]-Y_test)))\n",
    "    Error_train_track.append(np.sum(np.abs(A_train[L]-Y_train)))\n",
    "    "
   ]
  },
  {
   "cell_type": "code",
   "execution_count": 68,
   "id": "c5ffaa92-69b0-40a3-9176-fe9a3f177b26",
   "metadata": {},
   "outputs": [
    {
     "data": {
      "image/png": "[encoded data removed]",
      "text/plain": [
       "<Figure size 640x480 with 1 Axes>"
      ]
     },
     "metadata": {},
     "output_type": "display_data"
    }
   ],
   "source": [
    "plt.plot( Accuracy_test_track, label='Accuracy test')\n",
    "plt.plot( Accuracy_train_track, label='Accuracy train')\n",
    "plt.legend()\n",
    "plt.show()"
   ]
  },
  {
   "cell_type": "code",
   "execution_count": 67,
   "id": "d347ed03-0fbf-4093-8004-0710fdf7d2ec",
   "metadata": {},
   "outputs": [
    {
     "data": {
      "image/png": "[encoded data removed]",
      "text/plain": [
       "<Figure size 640x480 with 1 Axes>"
      ]
     },
     "metadata": {},
     "output_type": "display_data"
    }
   ],
   "source": [
    "plt.plot( Error_train_track, label='Error train')\n",
    "plt.plot( Error_test_track, label='Error test')\n",
    "plt.legend()\n",
    "plt.show()"
   ]
  }
 ],
 "metadata": {
  "kernelspec": {
   "display_name": "Python 3 (ipykernel)",
   "language": "python",
   "name": "python3"
  },
  "language_info": {
   "codemirror_mode": {
    "name": "ipython",
    "version": 3
   },
   "file_extension": ".py",
   "mimetype": "text/x-python",
   "name": "python",
   "nbconvert_exporter": "python",
   "pygments_lexer": "ipython3",
   "version": "3.10.9"
  }
 },
 "nbformat": 4,
 "nbformat_minor": 5
}
