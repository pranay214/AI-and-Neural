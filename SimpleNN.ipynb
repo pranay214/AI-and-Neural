{
 "cells": [
  {
   "cell_type": "code",
   "execution_count": 23,
   "id": "d62f71ec-f4ff-4781-84c4-fe72cc7ae531",
   "metadata": {},
   "outputs": [],
   "source": [
    "import numpy as np\n",
    "import pandas as pd\n",
    "import matplotlib.pyplot as plt\n",
    "from sklearn.preprocessing import MinMaxScaler"
   ]
  },
  {
   "cell_type": "code",
   "execution_count": 2,
   "id": "81e6b2b3-1431-4721-be18-64b1bed513a9",
   "metadata": {},
   "outputs": [],
   "source": [
    "data=pd.read_csv('C:/Users/Pranay/Downloads/activity.csv')"
   ]
  },
  {
   "cell_type": "code",
   "execution_count": 3,
   "id": "bb89cfeb-8469-4585-8800-6bd1b6c89a0c",
   "metadata": {},
   "outputs": [
    {
     "data": {
      "text/html": [
       "<div>\n",
       "<style scoped>\n",
       "    .dataframe tbody tr th:only-of-type {\n",
       "        vertical-align: middle;\n",
       "    }\n",
       "\n",
       "    .dataframe tbody tr th {\n",
       "        vertical-align: top;\n",
       "    }\n",
       "\n",
       "    .dataframe thead th {\n",
       "        text-align: right;\n",
       "    }\n",
       "</style>\n",
       "<table border=\"1\" class=\"dataframe\">\n",
       "  <thead>\n",
       "    <tr style=\"text-align: right;\">\n",
       "      <th></th>\n",
       "      <th>Acc (vertical)</th>\n",
       "      <th>LyingDown</th>\n",
       "    </tr>\n",
       "  </thead>\n",
       "  <tbody>\n",
       "    <tr>\n",
       "      <th>0</th>\n",
       "      <td>96.229</td>\n",
       "      <td>0</td>\n",
       "    </tr>\n",
       "    <tr>\n",
       "      <th>1</th>\n",
       "      <td>84.746</td>\n",
       "      <td>0</td>\n",
       "    </tr>\n",
       "    <tr>\n",
       "      <th>2</th>\n",
       "      <td>82.449</td>\n",
       "      <td>0</td>\n",
       "    </tr>\n",
       "    <tr>\n",
       "      <th>3</th>\n",
       "      <td>106.560</td>\n",
       "      <td>0</td>\n",
       "    </tr>\n",
       "    <tr>\n",
       "      <th>4</th>\n",
       "      <td>80.152</td>\n",
       "      <td>0</td>\n",
       "    </tr>\n",
       "  </tbody>\n",
       "</table>\n",
       "</div>"
      ],
      "text/plain": [
       "   Acc (vertical)  LyingDown\n",
       "0          96.229          0\n",
       "1          84.746          0\n",
       "2          82.449          0\n",
       "3         106.560          0\n",
       "4          80.152          0"
      ]
     },
     "execution_count": 3,
     "metadata": {},
     "output_type": "execute_result"
    }
   ],
   "source": [
    "data.head()           #Dataset with 1 training feature and 1 output variable"
   ]
  },
  {
   "cell_type": "code",
   "execution_count": 424,
   "id": "f811ca20-e349-4b84-92f2-d03ac91c7e24",
   "metadata": {},
   "outputs": [],
   "source": [
    "X=data['Acc (vertical)']\n",
    "Y=data['LyingDown']\n",
    "X_train=X[0:345]\n",
    "Y_train=Y[0:345]\n",
    "X_test=X[345:]\n",
    "Y_test=Y[345:]\n",
    "X_train=np.array(X_train).reshape(1,345)\n",
    "Y_train=np.array(Y_train).reshape(1,345)\n",
    "X_test=np.array(X_test).reshape(1,149)\n",
    "Y_test=np.array(Y_test).reshape(1,149)"
   ]
  },
  {
   "cell_type": "code",
   "execution_count": 425,
   "id": "b47849d1-3238-4f0e-a0fa-d7726d03f0f6",
   "metadata": {},
   "outputs": [],
   "source": [
    "scaler=MinMaxScaler()\n",
    "def sigmoid(X):\n",
    "    return 1/(1+np.exp(-X))"
   ]
  },
  {
   "cell_type": "code",
   "execution_count": 426,
   "id": "da33d3d3-914c-4584-9253-15dffb66868b",
   "metadata": {},
   "outputs": [],
   "source": [
    "X_train=scaler.fit_transform(X_train.T).T     #Scaling all training examples\n",
    "X_test=scaler.fit_transform(X_test.T).T"
   ]
  },
  {
   "cell_type": "code",
   "execution_count": 427,
   "id": "41608edc-9f37-4c87-a190-93bfe4516886",
   "metadata": {},
   "outputs": [],
   "source": [
    "m=X_train.shape[1]  #Number of training examples\n",
    "input_feat=1        #Number of input features  \n",
    "N=4                 #Number of nodes in hidden layer"
   ]
  },
  {
   "cell_type": "code",
   "execution_count": 524,
   "id": "af56cbd3-b4d2-41c4-a23d-3adf65ffc7db",
   "metadata": {},
   "outputs": [],
   "source": [
    "alpha=0.001"
   ]
  },
  {
   "cell_type": "code",
   "execution_count": 681,
   "id": "f44c7a61-ed12-41b4-87bd-54b3c611520f",
   "metadata": {},
   "outputs": [],
   "source": [
    "W1=np.random.rand(N,input_feat)*0.01\n",
    "b1=np.random.rand(N,1)\n",
    "Z1=np.zeros([N,m])\n",
    "A1=np.zeros([N,m])\n",
    "W2=np.random.rand(1,N)*0.01\n",
    "b2=np.random.rand(1,1)\n",
    "Z2=np.zeros([1,m])\n",
    "A2=np.zeros([1,m])\n",
    "Dz2=np.zeros([1,m])\n",
    "Dw2=np.zeros([1,N])\n",
    "Db2=np.zeros([1,1])\n",
    "dw1=np.zeros([N,input_feat])\n",
    "db1=np.zeros([N,1])\n",
    "G1_prime=np.zeros([4,4])"
   ]
  },
  {
   "cell_type": "code",
   "execution_count": 673,
   "id": "4d887ee5-eb09-4ab6-9c38-dc139be9d028",
   "metadata": {},
   "outputs": [],
   "source": [
    "W1_initial=np.zeros([N,input_feat])       #Variables for storing intial values of parameters\n",
    "W2_inital=np.zeros([1,N])\n",
    "b2_intial=np.zeros([1,1])"
   ]
  },
  {
   "cell_type": "code",
   "execution_count": 674,
   "id": "3130be31-79fb-4d23-a5d1-8e2155b482d6",
   "metadata": {},
   "outputs": [],
   "source": [
    "W1_initial=W1           #Storing intiallly random paramters \n",
    "b1_initial=b1\n",
    "W2_inital=W2\n",
    "b2_intial=b2"
   ]
  },
  {
   "cell_type": "code",
   "execution_count": 682,
   "id": "3d28eedf-9ae7-4197-88af-961b1f79b645",
   "metadata": {},
   "outputs": [],
   "source": [
    "W1=W1_initial            #Assignment of intial parameters after looking at the accuracy Vs Iteration graph\n",
    "b1=b1_initial\n",
    "W2=W2_inital\n",
    "b2=b2_intial"
   ]
  },
  {
   "cell_type": "code",
   "execution_count": 683,
   "id": "021b440c-1e46-4fd6-8476-a0f551ed63ee",
   "metadata": {},
   "outputs": [],
   "source": [
    "b2_track=[]\n",
    "db2_track=[]\n",
    "Accuracy_track=[]"
   ]
  },
  {
   "cell_type": "code",
   "execution_count": 684,
   "id": "1b47d423-49d6-40e3-bb28-50b1e5d66b30",
   "metadata": {},
   "outputs": [
    {
     "name": "stdout",
     "output_type": "stream",
     "text": [
      "CPU times: total: 375 ms\n",
      "Wall time: 443 ms\n"
     ]
    }
   ],
   "source": [
    "%%time\n",
    "for i in range(0,859):\n",
    "    #Forward Propogation\n",
    "    Z1=np.dot(W1,X_train)+b1\n",
    "    A1=sigmoid(Z1)\n",
    "    Z2=np.dot(W2,A1)+b2\n",
    "    A2=sigmoid(Z2)\n",
    "\n",
    "    #backpropogation\n",
    "    Dz2=A2-Y_train\n",
    "    Dw2= 1/m*(np.dot(Dz2,A1.T))\n",
    "    Db2=1/m* (np.sum(Dz2,axis=1,keepdims=True))\n",
    "    G1_prime=np.dot(A1,(1-A1).T)\n",
    "    Dz1=np.dot(W2.T,Dz2) * np.dot(G1_prime,Z1)\n",
    "    Dw1=1/m*(np.dot(Dz1,X_train.T))\n",
    "    Db1=1/m*(np.sum(Dz1,axis=1,keepdims=True))\n",
    "    W1=W1- (alpha*Dw1)\n",
    "    b1=b1- (alpha*Db1)\n",
    "    W2=W2- (alpha*Dw2)\n",
    "    b2=b2- (alpha*Db2)\n",
    "    b2_track.append(b2)\n",
    "    db2_track.append(Db2)\n",
    "    Z1_test=np.zeros([4,149])\n",
    "    A1_test=np.zeros([4,149])\n",
    "    A2_test=np.zeros([1,149])\n",
    "    A2_test_final=np.zeros([1,149])\n",
    "    A1_test=sigmoid(((W1*X_test)+b1))\n",
    "    A2_test=sigmoid(np.dot(W2,A1_test)+b2)\n",
    "    for i in range(0,149):\n",
    "        if A2_test[0][i]>0.5:\n",
    "            A2_test_final[0][i]=1\n",
    "        else:\n",
    "            A2_test_final[0][i]=0\n",
    "    Inaccuracy=np.sum(abs(A2_test_final-Y_test))\n",
    "    Accuracy=((149-Inaccuracy)/149)*100\n",
    "    Accuracy_track.append(Accuracy)"
   ]
  },
  {
   "cell_type": "code",
   "execution_count": 685,
   "id": "4616c8f1-0990-415b-854e-ebc2dc442bcf",
   "metadata": {},
   "outputs": [],
   "source": [
    "b2_track=np.array(b2_track)\n",
    "db2_track=np.array(db2_track)\n",
    "Accuracy_track=np.array(Accuracy_track)"
   ]
  },
  {
   "cell_type": "code",
   "execution_count": 692,
   "id": "acd369ee-a53b-4902-995b-2c3e3f306911",
   "metadata": {},
   "outputs": [],
   "source": [
    "b2_track=b2_track.reshape(859,1)\n",
    "db2_track=db2_track.reshape(859,1)"
   ]
  },
  {
   "cell_type": "code",
   "execution_count": 694,
   "id": "c43f44d9-c3c1-4ba7-9bd5-a57143146332",
   "metadata": {},
   "outputs": [
    {
     "data": {
      "text/plain": [
       "97.31543624161074"
      ]
     },
     "execution_count": 694,
     "metadata": {},
     "output_type": "execute_result"
    }
   ],
   "source": [
    "Accuracy"
   ]
  },
  {
   "cell_type": "code",
   "execution_count": 693,
   "id": "9c88a563-71c3-4d85-89bc-fcffb741cbf5",
   "metadata": {},
   "outputs": [
    {
     "data": {
      "text/plain": [
       "[<matplotlib.lines.Line2D at 0x1eb64b55900>]"
      ]
     },
     "execution_count": 693,
     "metadata": {},
     "output_type": "execute_result"
    },
    {
     "data": {
      "image/png": "[encoded data removed]",
      "text/plain": [
       "<Figure size 640x480 with 1 Axes>"
      ]
     },
     "metadata": {},
     "output_type": "display_data"
    }
   ],
   "source": [
    "plt.plot(db2_track)"
   ]
  },
  {
   "cell_type": "code",
   "execution_count": 686,
   "id": "21275011-2152-448f-9a66-7d064e9ae242",
   "metadata": {},
   "outputs": [
    {
     "data": {
      "text/plain": [
       "[<matplotlib.lines.Line2D at 0x1eb661b7d90>]"
      ]
     },
     "execution_count": 686,
     "metadata": {},
     "output_type": "execute_result"
    },
    {
     "data": {
      "image/png": "[encoded data removed]",
      "text/plain": [
       "<Figure size 640x480 with 1 Axes>"
      ]
     },
     "metadata": {},
     "output_type": "display_data"
    }
   ],
   "source": [
    "plt.plot(Accuracy_track)"
   ]
  },
  {
   "cell_type": "code",
   "execution_count": 689,
   "id": "fc47a734-165f-4804-ae68-ca3f7086ee1e",
   "metadata": {},
   "outputs": [
    {
     "data": {
      "text/plain": [
       "(array([854, 855, 856, 857, 858], dtype=int64),)"
      ]
     },
     "execution_count": 689,
     "metadata": {},
     "output_type": "execute_result"
    }
   ],
   "source": [
    "#np.where(Accuracy_track>90)"
   ]
  },
  {
   "cell_type": "code",
   "execution_count": 690,
   "id": "45a6a59c-1f81-4419-80f6-10276604d0b3",
   "metadata": {},
   "outputs": [
    {
     "data": {
      "text/plain": [
       "array([92.61744966, 94.63087248, 95.97315436, 97.31543624, 97.31543624])"
      ]
     },
     "execution_count": 690,
     "metadata": {},
     "output_type": "execute_result"
    }
   ],
   "source": [
    "#Accuracy_track[Accuracy_track>90]"
   ]
  }
 ],
 "metadata": {
  "kernelspec": {
   "display_name": "Python 3 (ipykernel)",
   "language": "python",
   "name": "python3"
  },
  "language_info": {
   "codemirror_mode": {
    "name": "ipython",
    "version": 3
   },
   "file_extension": ".py",
   "mimetype": "text/x-python",
   "name": "python",
   "nbconvert_exporter": "python",
   "pygments_lexer": "ipython3",
   "version": "3.10.9"
  }
 },
 "nbformat": 4,
 "nbformat_minor": 5
}
