{
 "cells": [
  {
   "cell_type": "code",
   "execution_count": 1,
   "id": "065cc374-f57c-4497-9c3e-e3096fa3929d",
   "metadata": {},
   "outputs": [],
   "source": [
    "import pandas as pd\n",
    "import numpy as np"
   ]
  },
  {
   "cell_type": "code",
   "execution_count": 2,
   "id": "75783f99-9b59-41fe-a905-3be9a7176a4d",
   "metadata": {},
   "outputs": [],
   "source": [
    "data= pd.read_csv(\"C:/Users/Pranay/Downloads/activity.csv\")"
   ]
  },
  {
   "cell_type": "code",
   "execution_count": 3,
   "id": "23841b99-040d-4877-bec3-1fcd2479d612",
   "metadata": {},
   "outputs": [
    {
     "data": {
      "text/html": [
       "<div>\n",
       "<style scoped>\n",
       "    .dataframe tbody tr th:only-of-type {\n",
       "        vertical-align: middle;\n",
       "    }\n",
       "\n",
       "    .dataframe tbody tr th {\n",
       "        vertical-align: top;\n",
       "    }\n",
       "\n",
       "    .dataframe thead th {\n",
       "        text-align: right;\n",
       "    }\n",
       "</style>\n",
       "<table border=\"1\" class=\"dataframe\">\n",
       "  <thead>\n",
       "    <tr style=\"text-align: right;\">\n",
       "      <th></th>\n",
       "      <th>Acc (vertical)</th>\n",
       "      <th>LyingDown</th>\n",
       "    </tr>\n",
       "  </thead>\n",
       "  <tbody>\n",
       "    <tr>\n",
       "      <th>0</th>\n",
       "      <td>96.229</td>\n",
       "      <td>0</td>\n",
       "    </tr>\n",
       "    <tr>\n",
       "      <th>1</th>\n",
       "      <td>84.746</td>\n",
       "      <td>0</td>\n",
       "    </tr>\n",
       "    <tr>\n",
       "      <th>2</th>\n",
       "      <td>82.449</td>\n",
       "      <td>0</td>\n",
       "    </tr>\n",
       "    <tr>\n",
       "      <th>3</th>\n",
       "      <td>106.560</td>\n",
       "      <td>0</td>\n",
       "    </tr>\n",
       "    <tr>\n",
       "      <th>4</th>\n",
       "      <td>80.152</td>\n",
       "      <td>0</td>\n",
       "    </tr>\n",
       "  </tbody>\n",
       "</table>\n",
       "</div>"
      ],
      "text/plain": [
       "   Acc (vertical)  LyingDown\n",
       "0          96.229          0\n",
       "1          84.746          0\n",
       "2          82.449          0\n",
       "3         106.560          0\n",
       "4          80.152          0"
      ]
     },
     "execution_count": 3,
     "metadata": {},
     "output_type": "execute_result"
    }
   ],
   "source": [
    "data.head()"
   ]
  },
  {
   "cell_type": "code",
   "execution_count": 4,
   "id": "14d6f0e8-be24-4212-bc34-49f68a2757f5",
   "metadata": {},
   "outputs": [
    {
     "data": {
      "text/html": [
       "<div>\n",
       "<style scoped>\n",
       "    .dataframe tbody tr th:only-of-type {\n",
       "        vertical-align: middle;\n",
       "    }\n",
       "\n",
       "    .dataframe tbody tr th {\n",
       "        vertical-align: top;\n",
       "    }\n",
       "\n",
       "    .dataframe thead th {\n",
       "        text-align: right;\n",
       "    }\n",
       "</style>\n",
       "<table border=\"1\" class=\"dataframe\">\n",
       "  <thead>\n",
       "    <tr style=\"text-align: right;\">\n",
       "      <th></th>\n",
       "      <th>Acc (vertical)</th>\n",
       "      <th>LyingDown</th>\n",
       "    </tr>\n",
       "  </thead>\n",
       "  <tbody>\n",
       "    <tr>\n",
       "      <th>count</th>\n",
       "      <td>494.000000</td>\n",
       "      <td>494.000000</td>\n",
       "    </tr>\n",
       "    <tr>\n",
       "      <th>mean</th>\n",
       "      <td>45.512363</td>\n",
       "      <td>0.516194</td>\n",
       "    </tr>\n",
       "    <tr>\n",
       "      <th>std</th>\n",
       "      <td>44.799360</td>\n",
       "      <td>0.500244</td>\n",
       "    </tr>\n",
       "    <tr>\n",
       "      <th>min</th>\n",
       "      <td>-48.459000</td>\n",
       "      <td>0.000000</td>\n",
       "    </tr>\n",
       "    <tr>\n",
       "      <th>25%</th>\n",
       "      <td>0.918650</td>\n",
       "      <td>0.000000</td>\n",
       "    </tr>\n",
       "    <tr>\n",
       "      <th>50%</th>\n",
       "      <td>41.109500</td>\n",
       "      <td>1.000000</td>\n",
       "    </tr>\n",
       "    <tr>\n",
       "      <th>75%</th>\n",
       "      <td>89.339000</td>\n",
       "      <td>1.000000</td>\n",
       "    </tr>\n",
       "    <tr>\n",
       "      <th>max</th>\n",
       "      <td>112.310000</td>\n",
       "      <td>1.000000</td>\n",
       "    </tr>\n",
       "  </tbody>\n",
       "</table>\n",
       "</div>"
      ],
      "text/plain": [
       "       Acc (vertical)   LyingDown\n",
       "count      494.000000  494.000000\n",
       "mean        45.512363    0.516194\n",
       "std         44.799360    0.500244\n",
       "min        -48.459000    0.000000\n",
       "25%          0.918650    0.000000\n",
       "50%         41.109500    1.000000\n",
       "75%         89.339000    1.000000\n",
       "max        112.310000    1.000000"
      ]
     },
     "execution_count": 4,
     "metadata": {},
     "output_type": "execute_result"
    }
   ],
   "source": [
    "data.describe()"
   ]
  },
  {
   "cell_type": "code",
   "execution_count": 5,
   "id": "9fe2f0cc-b104-4a71-a2a0-ab7fff213088",
   "metadata": {},
   "outputs": [
    {
     "name": "stdout",
     "output_type": "stream",
     "text": [
      "<class 'pandas.core.frame.DataFrame'>\n",
      "RangeIndex: 494 entries, 0 to 493\n",
      "Data columns (total 2 columns):\n",
      " #   Column          Non-Null Count  Dtype  \n",
      "---  ------          --------------  -----  \n",
      " 0   Acc (vertical)  494 non-null    float64\n",
      " 1   LyingDown       494 non-null    int64  \n",
      "dtypes: float64(1), int64(1)\n",
      "memory usage: 7.8 KB\n"
     ]
    }
   ],
   "source": [
    "data.info()"
   ]
  },
  {
   "cell_type": "code",
   "execution_count": 327,
   "id": "23ff3507-9b7f-4740-866e-80d504cc0f86",
   "metadata": {},
   "outputs": [
    {
     "data": {
      "text/plain": [
       "494"
      ]
     },
     "execution_count": 327,
     "metadata": {},
     "output_type": "execute_result"
    }
   ],
   "source": [
    "data.shape[0]"
   ]
  },
  {
   "cell_type": "code",
   "execution_count": 513,
   "id": "45f7c89c-f56f-41c9-86b8-a378dc3590f8",
   "metadata": {},
   "outputs": [],
   "source": [
    "alpha=0.01"
   ]
  },
  {
   "cell_type": "code",
   "execution_count": 514,
   "id": "e58ad429-9f77-48d4-b911-556ec06f465c",
   "metadata": {},
   "outputs": [],
   "source": [
    "X=data['Acc (vertical)']\n",
    "Y=data['LyingDown']"
   ]
  },
  {
   "cell_type": "code",
   "execution_count": 515,
   "id": "78ee1d41-0728-4982-85f9-210a1106a4e4",
   "metadata": {},
   "outputs": [],
   "source": [
    "X_train=X[0:345]\n",
    "Y_train=Y[0:345]\n",
    "X_test=X[345:]\n",
    "Y_test=Y[345:]\n",
    "X_train=np.array(X_train).reshape(1,345)\n",
    "Y_train=np.array(Y_train).reshape(1,345)\n",
    "X_test=np.array(X_test).reshape(1,149)\n",
    "Y_test=np.array(Y_test).reshape(1,149)"
   ]
  },
  {
   "cell_type": "code",
   "execution_count": 516,
   "id": "f21e921d-1dec-404c-bd42-3bc7a27dc88e",
   "metadata": {},
   "outputs": [],
   "source": [
    "m=X_train.shape[0]\n",
    "nx=1"
   ]
  },
  {
   "cell_type": "code",
   "execution_count": 517,
   "id": "fba947f4-14da-476d-a85b-9e4a1b803b95",
   "metadata": {},
   "outputs": [],
   "source": [
    "W=np.random.rand(nx,1)\n",
    "b=np.random.rand(1,1)\n",
    "Z=np.zeros([1,m],float)\n",
    "dZ=np.zeros([1,m],float)\n",
    "A=np.zeros([1,m],float)"
   ]
  },
  {
   "cell_type": "code",
   "execution_count": 518,
   "id": "8c74a77a-6927-4d32-a594-78d292628e6b",
   "metadata": {},
   "outputs": [],
   "source": [
    "ACC_data=[]\n",
    "iterate=[]\n",
    "W_graph=[]"
   ]
  },
  {
   "cell_type": "code",
   "execution_count": 519,
   "id": "42dc4962-e131-49e1-9c14-1bd22d59110b",
   "metadata": {},
   "outputs": [
    {
     "name": "stderr",
     "output_type": "stream",
     "text": [
      "<timed exec>:13: RuntimeWarning: overflow encountered in exp\n",
      "<timed exec>:3: RuntimeWarning: overflow encountered in exp\n"
     ]
    },
    {
     "name": "stdout",
     "output_type": "stream",
     "text": [
      "CPU times: total: 203 ms\n",
      "Wall time: 205 ms\n"
     ]
    },
    {
     "data": {
      "text/plain": [
       "999"
      ]
     },
     "execution_count": 519,
     "metadata": {},
     "output_type": "execute_result"
    }
   ],
   "source": [
    "%%time\n",
    "for i in range(0,1000):\n",
    "    Z=np.dot(W,X_train)+b\n",
    "    A=1/(1+np.exp(-Z))\n",
    "    dZ=A-Y_train\n",
    "    dW=1/m*(np.dot(X_train,dZ.T))\n",
    "    db=1/m*(np.sum(dZ))\n",
    "    W=W-(alpha*dW)\n",
    "    b=b-(alpha*db)\n",
    "    W_graph.append(W)\n",
    "    if(dW==0):\n",
    "        break\n",
    "    Z_test=(X_test*W)+b\n",
    "    Z_pred=1/(1+np.exp(-Z_test))\n",
    "    Y_pred=np.zeros(Z_pred.shape)\n",
    "    #for l in range(0,Z_pred.shape[1]):\n",
    "       # if Z_pred[0][l]>0.5:\n",
    "      #      Y_pred[0][l]=1\n",
    "      #  else:\n",
    "       #     Y_pred[0][l]=0\n",
    "    Inaccuracy=np.abs(np.sum(Y_test - Z_pred))\n",
    "    Accuracy=(149-Inaccuracy)/149*100\n",
    "    iterate.append(i)\n",
    "    ACC_data.append(Accuracy)\n",
    "i"
   ]
  },
  {
   "cell_type": "code",
   "execution_count": 520,
   "id": "4d5ef8c2-a8ba-4440-b31e-6099f6377072",
   "metadata": {},
   "outputs": [],
   "source": [
    "df1=pd.DataFrame(iterate,columns=['Num'])\n",
    "df2=pd.DataFrame(ACC_data,columns=['Accuracy'])\n",
    "Final=pd.concat([df1,df2],axis=1)"
   ]
  },
  {
   "cell_type": "code",
   "execution_count": 521,
   "id": "2b4a63dd-3752-4c9a-8c58-a4ca18a8a46e",
   "metadata": {},
   "outputs": [
    {
     "data": {
      "text/plain": [
       "87.89048409705323"
      ]
     },
     "execution_count": 521,
     "metadata": {},
     "output_type": "execute_result"
    }
   ],
   "source": [
    "Accuracy"
   ]
  },
  {
   "cell_type": "code",
   "execution_count": 522,
   "id": "3f221f50-a00e-45fd-9024-8f244e4f68e0",
   "metadata": {},
   "outputs": [
    {
     "data": {
      "image/png": "[encoded data removed]",
      "text/plain": [
       "<Figure size 640x480 with 1 Axes>"
      ]
     },
     "metadata": {},
     "output_type": "display_data"
    }
   ],
   "source": [
    "import matplotlib.pyplot as plt\n",
    "ax = plt.gca()\n",
    "Final.plot(kind='line',\n",
    "        x='Num',\n",
    "        y='Accuracy',\n",
    "        color='green', ax=ax)\n",
    "plt.show()"
   ]
  },
  {
   "cell_type": "code",
   "execution_count": 524,
   "id": "3730e0b0-cd84-4926-8256-7ed4ee49331f",
   "metadata": {},
   "outputs": [],
   "source": [
    "W_graph=np.array(W_graph).reshape(1000,1)\n",
    "W_graph=pd.DataFrame(W_graph,columns=['W_value'])"
   ]
  },
  {
   "cell_type": "code",
   "execution_count": 525,
   "id": "29d8c241-5efc-45cd-8eab-9a5de61568e8",
   "metadata": {},
   "outputs": [
    {
     "data": {
      "text/plain": [
       "[<matplotlib.lines.Line2D at 0x1d7597f54b0>]"
      ]
     },
     "execution_count": 525,
     "metadata": {},
     "output_type": "execute_result"
    },
    {
     "data": {
      "image/png": "[encoded data removed]",
      "text/plain": [
       "<Figure size 640x480 with 1 Axes>"
      ]
     },
     "metadata": {},
     "output_type": "display_data"
    }
   ],
   "source": [
    "plt.plot(W_graph)"
   ]
  }
 ],
 "metadata": {
  "kernelspec": {
   "display_name": "Python 3 (ipykernel)",
   "language": "python",
   "name": "python3"
  },
  "language_info": {
   "codemirror_mode": {
    "name": "ipython",
    "version": 3
   },
   "file_extension": ".py",
   "mimetype": "text/x-python",
   "name": "python",
   "nbconvert_exporter": "python",
   "pygments_lexer": "ipython3",
   "version": "3.10.9"
  }
 },
 "nbformat": 4,
 "nbformat_minor": 5
}
