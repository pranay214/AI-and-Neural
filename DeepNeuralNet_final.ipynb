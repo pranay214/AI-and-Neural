{
 "cells": [
  {
   "cell_type": "code",
   "execution_count": 1,
   "id": "91e773af-4f72-4699-b9b1-6c7a0af014b1",
   "metadata": {},
   "outputs": [],
   "source": [
    "import pandas as pd\n",
    "import numpy as np\n",
    "import matplotlib.pyplot as plt"
   ]
  },
  {
   "cell_type": "code",
   "execution_count": 2,
   "id": "1c5677f3-85fb-49ce-8311-608aa41b51db",
   "metadata": {},
   "outputs": [],
   "source": [
    "data=pd.read_csv('C:/Users/Pranay/Downloads/activity.csv')"
   ]
  },
  {
   "cell_type": "code",
   "execution_count": 3,
   "id": "1df84d42-f707-4c48-9945-c16d02e49ddc",
   "metadata": {},
   "outputs": [
    {
     "data": {
      "text/html": [
       "<div>\n",
       "<style scoped>\n",
       "    .dataframe tbody tr th:only-of-type {\n",
       "        vertical-align: middle;\n",
       "    }\n",
       "\n",
       "    .dataframe tbody tr th {\n",
       "        vertical-align: top;\n",
       "    }\n",
       "\n",
       "    .dataframe thead th {\n",
       "        text-align: right;\n",
       "    }\n",
       "</style>\n",
       "<table border=\"1\" class=\"dataframe\">\n",
       "  <thead>\n",
       "    <tr style=\"text-align: right;\">\n",
       "      <th></th>\n",
       "      <th>Acc (vertical)</th>\n",
       "      <th>LyingDown</th>\n",
       "    </tr>\n",
       "  </thead>\n",
       "  <tbody>\n",
       "    <tr>\n",
       "      <th>0</th>\n",
       "      <td>96.229</td>\n",
       "      <td>0</td>\n",
       "    </tr>\n",
       "    <tr>\n",
       "      <th>1</th>\n",
       "      <td>84.746</td>\n",
       "      <td>0</td>\n",
       "    </tr>\n",
       "    <tr>\n",
       "      <th>2</th>\n",
       "      <td>82.449</td>\n",
       "      <td>0</td>\n",
       "    </tr>\n",
       "    <tr>\n",
       "      <th>3</th>\n",
       "      <td>106.560</td>\n",
       "      <td>0</td>\n",
       "    </tr>\n",
       "    <tr>\n",
       "      <th>4</th>\n",
       "      <td>80.152</td>\n",
       "      <td>0</td>\n",
       "    </tr>\n",
       "  </tbody>\n",
       "</table>\n",
       "</div>"
      ],
      "text/plain": [
       "   Acc (vertical)  LyingDown\n",
       "0          96.229          0\n",
       "1          84.746          0\n",
       "2          82.449          0\n",
       "3         106.560          0\n",
       "4          80.152          0"
      ]
     },
     "execution_count": 3,
     "metadata": {},
     "output_type": "execute_result"
    }
   ],
   "source": [
    "data.head()"
   ]
  },
  {
   "cell_type": "code",
   "execution_count": 4,
   "id": "d6dd507c-80f5-4903-b9a2-46f3b2f230e3",
   "metadata": {},
   "outputs": [
    {
     "data": {
      "text/html": [
       "<div>\n",
       "<style scoped>\n",
       "    .dataframe tbody tr th:only-of-type {\n",
       "        vertical-align: middle;\n",
       "    }\n",
       "\n",
       "    .dataframe tbody tr th {\n",
       "        vertical-align: top;\n",
       "    }\n",
       "\n",
       "    .dataframe thead th {\n",
       "        text-align: right;\n",
       "    }\n",
       "</style>\n",
       "<table border=\"1\" class=\"dataframe\">\n",
       "  <thead>\n",
       "    <tr style=\"text-align: right;\">\n",
       "      <th></th>\n",
       "      <th>Acc (vertical)</th>\n",
       "      <th>LyingDown</th>\n",
       "    </tr>\n",
       "  </thead>\n",
       "  <tbody>\n",
       "    <tr>\n",
       "      <th>count</th>\n",
       "      <td>494.000000</td>\n",
       "      <td>494.000000</td>\n",
       "    </tr>\n",
       "    <tr>\n",
       "      <th>mean</th>\n",
       "      <td>45.512363</td>\n",
       "      <td>0.516194</td>\n",
       "    </tr>\n",
       "    <tr>\n",
       "      <th>std</th>\n",
       "      <td>44.799360</td>\n",
       "      <td>0.500244</td>\n",
       "    </tr>\n",
       "    <tr>\n",
       "      <th>min</th>\n",
       "      <td>-48.459000</td>\n",
       "      <td>0.000000</td>\n",
       "    </tr>\n",
       "    <tr>\n",
       "      <th>25%</th>\n",
       "      <td>0.918650</td>\n",
       "      <td>0.000000</td>\n",
       "    </tr>\n",
       "    <tr>\n",
       "      <th>50%</th>\n",
       "      <td>41.109500</td>\n",
       "      <td>1.000000</td>\n",
       "    </tr>\n",
       "    <tr>\n",
       "      <th>75%</th>\n",
       "      <td>89.339000</td>\n",
       "      <td>1.000000</td>\n",
       "    </tr>\n",
       "    <tr>\n",
       "      <th>max</th>\n",
       "      <td>112.310000</td>\n",
       "      <td>1.000000</td>\n",
       "    </tr>\n",
       "  </tbody>\n",
       "</table>\n",
       "</div>"
      ],
      "text/plain": [
       "       Acc (vertical)   LyingDown\n",
       "count      494.000000  494.000000\n",
       "mean        45.512363    0.516194\n",
       "std         44.799360    0.500244\n",
       "min        -48.459000    0.000000\n",
       "25%          0.918650    0.000000\n",
       "50%         41.109500    1.000000\n",
       "75%         89.339000    1.000000\n",
       "max        112.310000    1.000000"
      ]
     },
     "execution_count": 4,
     "metadata": {},
     "output_type": "execute_result"
    }
   ],
   "source": [
    "data.describe()"
   ]
  },
  {
   "cell_type": "code",
   "execution_count": 5,
   "id": "e785dcee-0fd3-4d9a-9b7d-17bc99659f40",
   "metadata": {},
   "outputs": [
    {
     "name": "stdout",
     "output_type": "stream",
     "text": [
      "<class 'pandas.core.frame.DataFrame'>\n",
      "RangeIndex: 494 entries, 0 to 493\n",
      "Data columns (total 2 columns):\n",
      " #   Column          Non-Null Count  Dtype  \n",
      "---  ------          --------------  -----  \n",
      " 0   Acc (vertical)  494 non-null    float64\n",
      " 1   LyingDown       494 non-null    int64  \n",
      "dtypes: float64(1), int64(1)\n",
      "memory usage: 7.8 KB\n"
     ]
    }
   ],
   "source": [
    "data.info()"
   ]
  },
  {
   "cell_type": "code",
   "execution_count": 7,
   "id": "714374f0-6fbd-491f-8d49-c4c9ca614145",
   "metadata": {},
   "outputs": [],
   "source": [
    "X=data['Acc (vertical)']\n",
    "Y=data['LyingDown']\n",
    "X_train=X[0:345]\n",
    "y_train=Y[0:345]\n",
    "X_test=X[345:]\n",
    "y_test=Y[345:]\n",
    "X_train=np.array(X_train).reshape(1,345)\n",
    "y_train=np.array(y_train).reshape(1,345)\n",
    "X_test=np.array(X_test).reshape(1,149)\n",
    "y_test=np.array(y_test).reshape(1,149)"
   ]
  },
  {
   "cell_type": "code",
   "execution_count": 8,
   "id": "3ede7f08-d5ac-491b-b568-3c9260326a7b",
   "metadata": {},
   "outputs": [],
   "source": [
    "train_size=X_train.shape[1]\n",
    "test_size=X_test.shape[1]"
   ]
  },
  {
   "cell_type": "code",
   "execution_count": 9,
   "id": "cb84a7be-d2d5-4b8b-83e4-a35698390fd4",
   "metadata": {},
   "outputs": [],
   "source": [
    "from sklearn.preprocessing import MinMaxScaler\n",
    "scaler=MinMaxScaler()\n",
    "X_train=scaler.fit_transform(X_train.T).T     #Scaling all training examples\n",
    "X_test=scaler.fit_transform(X_test.T).T"
   ]
  },
  {
   "cell_type": "code",
   "execution_count": 199,
   "id": "2c108640-450b-4225-99e8-bec7f2de06ea",
   "metadata": {},
   "outputs": [],
   "source": [
    "#Hyperparameters\n",
    "alpha=0.01\n",
    "lamd=0.05\n",
    "Iter=1000\n",
    "L=2\n",
    "N=5\n",
    "m=X_train.shape[1]\n",
    "Input_feat=1\n",
    "Output_feat=1"
   ]
  },
  {
   "cell_type": "code",
   "execution_count": 200,
   "id": "df6ee011-acbe-4792-a1cb-f77d544c28ca",
   "metadata": {},
   "outputs": [],
   "source": [
    "def relu(Z):\n",
    "    return np.maximum(0, Z)\n",
    "\n",
    "def sigmoid(X):\n",
    "    return 1/(1+np.exp(-X))"
   ]
  },
  {
   "cell_type": "code",
   "execution_count": 262,
   "id": "bfcfd91f-cf00-448b-bab9-70d7e4a9bce2",
   "metadata": {},
   "outputs": [],
   "source": [
    "W=[]                                         #NN matrices and lists\n",
    "B=[]\n",
    "Z=[]\n",
    "A=[]\n",
    "DZ=[]\n",
    "DW=[]\n",
    "DB=[]\n",
    "G_prime=[]\n",
    "W_track=[]\n",
    "W_track2=[]\n",
    "W_track3=[]\n",
    "W_track4=[]\n",
    "W_track5=[]\n",
    "Cost_track=[]\n",
    "for i in range(1,L):                         #NN matrices and lists\n",
    "    if(i==1):\n",
    "        W.append(np.random.rand(N,Input_feat) * np.sqrt(2/Input_feat))  \n",
    "    else:\n",
    "        W.append(np.random.rand(N,N)  * np.sqrt(2/N)) \n",
    "    B.append(np.random.rand(N,1))\n",
    "    Z.append(np.zeros([N,m]))\n",
    "    A.append(np.zeros([N,m]))\n",
    "    DZ.append(np.zeros([N,m]))\n",
    "    DB.append(np.random.rand(N,1))\n",
    "    if(i==1):\n",
    "        DW.append(np.random.rand(N,Input_feat))\n",
    "    else:\n",
    "        DW.append(np.random.rand(N,N))\n",
    "    G_prime.append(np.ones([N,train_size]))\n",
    "Z_test=[]                                     #Prediction variables and lists\n",
    "A_test=[]\n",
    "Z_train=[]\n",
    "A_train=[]\n",
    "Accuracy_test_track=[]\n",
    "Accuracy_train_track=[]\n",
    "Error_train_track=[]\n",
    "Error_test_track=[]\n",
    "for i in range(1,L):\n",
    "    Z_test.append(np.zeros([N,test_size]))\n",
    "    A_test.append(np.zeros([N,test_size]))\n",
    "Z0_test=np.random.rand(1,1)\n",
    "Z7_test=np.zeros([Output_feat,1])\n",
    "a0_test=X_test\n",
    "a7_test=np.zeros([Output_feat,1])\n",
    "A_test.insert(0,a0_test)\n",
    "A_test.insert(L,a7_test)\n",
    "Z_test.insert(0,Z0_test)\n",
    "Z_test.insert(L,Z7_test)\n",
    "for i in range(1,L):\n",
    "    Z_train.append(np.zeros([N,m]))\n",
    "    A_train.append(np.zeros([N,m]))\n",
    "Z0_train=np.random.rand(1,1)\n",
    "Z7_train=np.zeros([Output_feat,1])\n",
    "a0_train=X_train\n",
    "a7_train=np.zeros([Output_feat,1])\n",
    "A_train.insert(0,a0_train)\n",
    "A_train.insert(L,a7_train)\n",
    "Z_train.insert(0,Z0_train)\n",
    "Z_train.insert(L,Z7_train)\n",
    "W0=np.random.rand(2,2)                               #Creating first and last layer\n",
    "W7=np.random.rand(Output_feat,N) \n",
    "b0=np.random.rand(1,1)\n",
    "b7=np.random.rand(Output_feat,1)\n",
    "Z0=np.random.rand(1,1)\n",
    "a0=X_train\n",
    "Z7=np.zeros([Output_feat,1])\n",
    "a7=np.zeros([Output_feat,1])\n",
    "Db0=np.random.rand(1,1)\n",
    "Db7=np.random.rand(Output_feat,1)\n",
    "DZ0=np.random.rand(1,1)\n",
    "DZ7=np.zeros([Output_feat,1])\n",
    "DW0=np.random.rand(2,2)\n",
    "DW7=np.random.rand(Output_feat,N)\n",
    "G_prime0=np.zeros([N,N])\n",
    "G_prime7=np.zeros([N,train_size])\n",
    "W.insert(0,W0)                            #Adding first and last layer to the neural net\n",
    "W.insert(L,W7)\n",
    "B.insert(0,b0)\n",
    "B.insert(L,b7)\n",
    "Z.insert(0,Z0)\n",
    "Z.insert(L,Z7)\n",
    "A.insert(0,a0)\n",
    "A.insert(L,a7)\n",
    "DW.insert(0,DW0)\n",
    "DW.insert(L,DW7)\n",
    "DB.insert(0,Db0)\n",
    "DB.insert(L,Db7)\n",
    "DZ.insert(0,DZ0)\n",
    "DZ.insert(L,DZ7)\n",
    "G_prime.insert(0,G_prime0)\n",
    "G_prime.insert(L,G_prime7)\n",
    "W_initial=W\n",
    "B_initial=B\n",
    "#W=W_initial\n",
    "#B=B_initial"
   ]
  },
  {
   "cell_type": "code",
   "execution_count": 263,
   "id": "95d74177-a288-4511-9b09-df2a5bab53a8",
   "metadata": {},
   "outputs": [
    {
     "name": "stdout",
     "output_type": "stream",
     "text": [
      "628\n",
      "CPU times: total: 344 ms\n",
      "Wall time: 342 ms\n"
     ]
    }
   ],
   "source": [
    "%%time\n",
    "#Forward Propogation\n",
    "max_accuracy = 0.0\n",
    "best_weights = None\n",
    "best_biases = None\n",
    "for l in range(0,1000):                    #Activation functions can be customized using for loops\n",
    "    for i in range(1,L+1):\n",
    "        if(i==L):\n",
    "            Z[i]=np.dot(W[i],A[i-1]) + B[i]\n",
    "            A[i]=sigmoid(Z[i])\n",
    "        else:\n",
    "            Z[i]=np.dot(W[i],A[i-1]) + B[i]\n",
    "            A[i]=relu(Z[i])\n",
    "    Cost = -(1/m) * np.sum(y_train * np.log(A[L]) + (1 - y_train) * np.log(1 - A[L]))\n",
    "    Cost_track.append(Cost)\n",
    "   #Back Propogation\n",
    "    for i in reversed(range(1,L+1)):\n",
    "        if(i==L):\n",
    "            DZ[i]=(A[i] - y_train)  \n",
    "            DW[i]= 1/m * (np.dot(DZ[i],A[i-1].T))\n",
    "            DW[i]=DW[i] + ((lamd/m) * W[i])\n",
    "            DB[i]= 1/m * (np.sum(DZ[i],axis=1,keepdims=True))\n",
    "            W[i]= W[i]- (alpha*DW[i])\n",
    "            B[i]= B[i]- (alpha*DB[i])\n",
    "        else:\n",
    "            #G_prime[i] = A[i] * (1 - A[i]) #sigmoid\n",
    "            G_prime[i]= np.where(Z[i] > 0, 1, 0) #Relu\n",
    "            DZ[i] = np.dot(W[i+1].T, DZ[i+1]) * G_prime[i]\n",
    "            #DZ[i]= np.dot(W[i+1].T,(DZ[i+1])) *  G_prime[i]\n",
    "            DW[i]= 1/m * np.dot(DZ[i],A[i-1].T)\n",
    "            DW[i]=DW[i] + ((lamd/m) * W[i])\n",
    "            DB[i]= 1/m * (np.sum(DZ[i],axis=1,keepdims=True))\n",
    "            W[i]= W[i]- (alpha*DW[i])\n",
    "            B[i]= B[i]- (alpha*DB[i])\n",
    "    W_track.append(W[L][0][0])\n",
    "    W_track2.append(W[L][0][1])\n",
    "    W_track3.append(W[L][0][2])\n",
    "    W_track4.append(W[L][0][3])\n",
    "    W_track5.append(W[L][0][4])\n",
    "        #Predicting using parameters\n",
    "    for i in range(1,L+1):\n",
    "        Z_test[i]=np.dot(W[i],A_test[i-1])+B[i]\n",
    "        A_test[i]=sigmoid(Z_test[i])\n",
    "        Z_train[i]=np.dot(W[i],A_train[i-1])+B[i]\n",
    "        A_train[i]=sigmoid(Z_train[i])\n",
    "    for i in range(0,test_size):\n",
    "        if A_test[L][0][i]>0.5:\n",
    "            A_test[L][0][i]=1\n",
    "        else:\n",
    "            A_test[L][0][i]=0\n",
    "    for i in range(0,train_size):\n",
    "        if A_train[L][0][i]>0.5:\n",
    "            A_train[L][0][i]=1\n",
    "        else:\n",
    "            A_train[L][0][i]=0\n",
    "    Accuracy_test=((test_size-np.sum(np.abs(A_test[L]-y_test)))/test_size)*100 #Accuracy of test set\n",
    "    Accuracy_train=((train_size-np.sum(np.abs(A_train[L]-y_train)))/train_size)*100 #Accuracy of train set\n",
    "    Accuracy_test_track.append(Accuracy_test)\n",
    "    Accuracy_train_track.append(Accuracy_train)\n",
    "    Error_test_track.append((np.sum(np.abs(A_test[L]-y_test))/test_size) * 100)\n",
    "    Error_train_track.append((np.sum(np.abs(A_train[L]-y_train))/train_size)*100)\n",
    "    if Accuracy_test >= max_accuracy:\n",
    "        max_accuracy = Accuracy_test\n",
    "        best_weights = W.copy()  # Make a copy of the weights\n",
    "        best_biases = B.copy()  # Make a copy of the biases\n",
    "    else:\n",
    "        break\n",
    "W = best_weights      #Selecting best weights and biases\n",
    "B = best_biases\n",
    "print(l)   "
   ]
  },
  {
   "cell_type": "code",
   "execution_count": 264,
   "id": "c5ffaa92-69b0-40a3-9176-fe9a3f177b26",
   "metadata": {},
   "outputs": [
    {
     "data": {
      "image/png": "[encoded data removed]",
      "text/plain": [
       "<Figure size 640x480 with 1 Axes>"
      ]
     },
     "metadata": {},
     "output_type": "display_data"
    }
   ],
   "source": [
    "plt.plot( Accuracy_test_track, label='Accuracy test')\n",
    "plt.plot( Accuracy_train_track, label='Accuracy train')\n",
    "plt.legend()\n",
    "plt.show()"
   ]
  },
  {
   "cell_type": "code",
   "execution_count": 265,
   "id": "d347ed03-0fbf-4093-8004-0710fdf7d2ec",
   "metadata": {},
   "outputs": [
    {
     "data": {
      "image/png": "[encoded data removed]",
      "text/plain": [
       "<Figure size 640x480 with 1 Axes>"
      ]
     },
     "metadata": {},
     "output_type": "display_data"
    }
   ],
   "source": [
    "plt.plot( Error_train_track, label='Error train')\n",
    "plt.plot( Error_test_track, label='Error test')\n",
    "plt.legend()\n",
    "plt.show()"
   ]
  },
  {
   "cell_type": "code",
   "execution_count": 266,
   "id": "6d64f174-f659-447e-81da-c1507c73904e",
   "metadata": {},
   "outputs": [
    {
     "data": {
      "image/png": "[encoded data removed]",
      "text/plain": [
       "<Figure size 640x480 with 1 Axes>"
      ]
     },
     "metadata": {},
     "output_type": "display_data"
    }
   ],
   "source": [
    "plt.plot(W_track,label='W1')\n",
    "plt.plot(W_track2,label='W2')\n",
    "plt.plot(W_track3,label='W3')\n",
    "plt.plot(W_track4,label='W4')\n",
    "plt.plot(W_track5,label='W5')\n",
    "plt.legend()\n",
    "plt.show()"
   ]
  },
  {
   "cell_type": "code",
   "execution_count": 267,
   "id": "3c94383a-82e5-454f-a86e-3c61536d016f",
   "metadata": {},
   "outputs": [
    {
     "data": {
      "image/png": "[encoded data removed]",
      "text/plain": [
       "<Figure size 640x480 with 1 Axes>"
      ]
     },
     "metadata": {},
     "output_type": "display_data"
    }
   ],
   "source": [
    "plt.plot(Cost_track,label='Cost')\n",
    "plt.legend()\n",
    "plt.show()"
   ]
  },
  {
   "cell_type": "code",
   "execution_count": 279,
   "id": "941845a7-9dae-461d-8d8b-0ee740d50856",
   "metadata": {},
   "outputs": [],
   "source": [
    "for i in range(1,L+1):               #Calculating accuracy with best weights and biases\n",
    "        Z_test[i]=np.dot(W[i],A_test[i-1])+B[i]\n",
    "        A_test[i]=sigmoid(Z_test[i])\n",
    "        Z_train[i]=np.dot(W[i],A_train[i-1])+B[i]\n",
    "        A_train[i]=sigmoid(Z_train[i])\n",
    "for i in range(0,test_size):\n",
    "        if A_test[L][0][i]>0.5:\n",
    "            A_test[L][0][i]=1\n",
    "        else:\n",
    "            A_test[L][0][i]=0\n",
    "for i in range(0,train_size):\n",
    "        if A_train[L][0][i]>0.5:\n",
    "            A_train[L][0][i]=1\n",
    "        else:\n",
    "            A_train[L][0][i]=0\n",
    "Accuracy_test=((test_size-np.sum(np.abs(A_test[L]-y_test)))/test_size)*100 #Accuracy of test set\n",
    "Accuracy_train=((train_size-np.sum(np.abs(A_train[L]-y_train)))/train_size)*100 #Accuracy of train set"
   ]
  },
  {
   "cell_type": "code",
   "execution_count": 280,
   "id": "11c29d0f-2908-4ff4-b534-7b0eda563528",
   "metadata": {},
   "outputs": [],
   "source": [
    "TP_test = np.sum(np.logical_and(A_test[L] == 1, y_test == 1))\n",
    "FP_test = np.sum(np.logical_and(A_test[L] == 1, y_test == 0))\n",
    "FN_test = np.sum(np.logical_and(A_test[L] == 0, y_test == 1))\n",
    "\n",
    "TP_train = np.sum(np.logical_and(A_train[L] == 1, y_train == 1))\n",
    "FP_train = np.sum(np.logical_and(A_train[L] == 1, y_train == 0))\n",
    "FN_train = np.sum(np.logical_and(A_train[L] == 0, y_train == 1))\n",
    "\n",
    "precision_test = TP_test / (TP_test + FP_test)\n",
    "recall_test = TP_test / (TP_test + FN_test)\n",
    "\n",
    "precision_train = TP_train / (TP_train + FP_train)\n",
    "recall_train = TP_train / (TP_train + FN_train)"
   ]
  },
  {
   "cell_type": "code",
   "execution_count": 281,
   "id": "551a8e57-073f-4deb-82a9-7a82b6fe198f",
   "metadata": {},
   "outputs": [
    {
     "data": {
      "text/plain": [
       "0.9900990099009901"
      ]
     },
     "execution_count": 281,
     "metadata": {},
     "output_type": "execute_result"
    }
   ],
   "source": [
    "precision_test"
   ]
  },
  {
   "cell_type": "code",
   "execution_count": 282,
   "id": "fa1120e4-3bac-4b09-9674-a9572d1fbcf6",
   "metadata": {},
   "outputs": [
    {
     "data": {
      "text/plain": [
       "1.0"
      ]
     },
     "execution_count": 282,
     "metadata": {},
     "output_type": "execute_result"
    }
   ],
   "source": [
    "recall_test"
   ]
  },
  {
   "cell_type": "code",
   "execution_count": 283,
   "id": "a9e54871-d9cc-48dd-b67e-cb5bf4c7ab3a",
   "metadata": {},
   "outputs": [
    {
     "data": {
      "text/plain": [
       "99.32885906040269"
      ]
     },
     "execution_count": 283,
     "metadata": {},
     "output_type": "execute_result"
    }
   ],
   "source": [
    "Accuracy_test"
   ]
  },
  {
   "cell_type": "code",
   "execution_count": 284,
   "id": "c66ccd5a-9fb6-4810-a809-e74dc55dd256",
   "metadata": {},
   "outputs": [
    {
     "data": {
      "text/plain": [
       "99.32885906040269"
      ]
     },
     "execution_count": 284,
     "metadata": {},
     "output_type": "execute_result"
    }
   ],
   "source": [
    "max(Accuracy_test_track)"
   ]
  },
  {
   "cell_type": "code",
   "execution_count": 285,
   "id": "b8e7a3d5-14a0-4c15-a8ac-0c7a065fe40c",
   "metadata": {},
   "outputs": [
    {
     "data": {
      "text/plain": [
       "99.32885906040269"
      ]
     },
     "execution_count": 285,
     "metadata": {},
     "output_type": "execute_result"
    }
   ],
   "source": [
    "Accuracy_test"
   ]
  },
  {
   "cell_type": "code",
   "execution_count": 286,
   "id": "3d90825d-ddd1-4f87-8de6-2a5c66a64412",
   "metadata": {},
   "outputs": [
    {
     "data": {
      "text/plain": [
       "98.84057971014492"
      ]
     },
     "execution_count": 286,
     "metadata": {},
     "output_type": "execute_result"
    }
   ],
   "source": [
    "Accuracy_train"
   ]
  }
 ],
 "metadata": {
  "kernelspec": {
   "display_name": "Python 3 (ipykernel)",
   "language": "python",
   "name": "python3"
  },
  "language_info": {
   "codemirror_mode": {
    "name": "ipython",
    "version": 3
   },
   "file_extension": ".py",
   "mimetype": "text/x-python",
   "name": "python",
   "nbconvert_exporter": "python",
   "pygments_lexer": "ipython3",
   "version": "3.10.9"
  }
 },
 "nbformat": 4,
 "nbformat_minor": 5
}
